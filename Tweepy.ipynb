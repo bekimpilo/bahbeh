{
  "nbformat": 4,
  "nbformat_minor": 0,
  "metadata": {
    "colab": {
      "name": "Tweepy.ipynb",
      "provenance": [],
      "collapsed_sections": [],
      "authorship_tag": "ABX9TyNWLPg7zm0w5P0ARx4okSC/",
      "include_colab_link": true
    },
    "kernelspec": {
      "name": "python3",
      "display_name": "Python 3"
    },
    "language_info": {
      "name": "python"
    }
  },
  "cells": [
    {
      "cell_type": "markdown",
      "metadata": {
        "id": "view-in-github",
        "colab_type": "text"
      },
      "source": [
        "<a href=\"https://colab.research.google.com/github/bekimpilo/bahbeh/blob/main/Tweepy.ipynb\" target=\"_parent\"><img src=\"https://colab.research.google.com/assets/colab-badge.svg\" alt=\"Open In Colab\"/></a>"
      ]
    },
    {
      "cell_type": "code",
      "execution_count": null,
      "metadata": {
        "colab": {
          "base_uri": "https://localhost:8080/"
        },
        "id": "SJmGSKfHDQvX",
        "outputId": "b71a48ba-ca75-406c-a89e-b4a9106c61ab"
      },
      "outputs": [
        {
          "output_type": "stream",
          "name": "stdout",
          "text": [
            "Requirement already satisfied: nltk in /usr/local/lib/python3.7/dist-packages (3.2.5)\n",
            "Requirement already satisfied: six in /usr/local/lib/python3.7/dist-packages (from nltk) (1.15.0)\n"
          ]
        }
      ],
      "source": [
        "pip install nltk\n"
      ]
    },
    {
      "cell_type": "code",
      "source": [
        "pip install tweepy"
      ],
      "metadata": {
        "colab": {
          "base_uri": "https://localhost:8080/"
        },
        "id": "dqMrxJJgK2in",
        "outputId": "17953fa7-bf57-4ac8-9b13-33b20d34d87b"
      },
      "execution_count": null,
      "outputs": [
        {
          "output_type": "stream",
          "name": "stdout",
          "text": [
            "Requirement already satisfied: tweepy in /usr/local/lib/python3.7/dist-packages (3.10.0)\n",
            "Requirement already satisfied: six>=1.10.0 in /usr/local/lib/python3.7/dist-packages (from tweepy) (1.15.0)\n",
            "Requirement already satisfied: requests[socks]>=2.11.1 in /usr/local/lib/python3.7/dist-packages (from tweepy) (2.23.0)\n",
            "Requirement already satisfied: requests-oauthlib>=0.7.0 in /usr/local/lib/python3.7/dist-packages (from tweepy) (1.3.1)\n",
            "Requirement already satisfied: oauthlib>=3.0.0 in /usr/local/lib/python3.7/dist-packages (from requests-oauthlib>=0.7.0->tweepy) (3.2.0)\n",
            "Requirement already satisfied: chardet<4,>=3.0.2 in /usr/local/lib/python3.7/dist-packages (from requests[socks]>=2.11.1->tweepy) (3.0.4)\n",
            "Requirement already satisfied: certifi>=2017.4.17 in /usr/local/lib/python3.7/dist-packages (from requests[socks]>=2.11.1->tweepy) (2021.10.8)\n",
            "Requirement already satisfied: idna<3,>=2.5 in /usr/local/lib/python3.7/dist-packages (from requests[socks]>=2.11.1->tweepy) (2.10)\n",
            "Requirement already satisfied: urllib3!=1.25.0,!=1.25.1,<1.26,>=1.21.1 in /usr/local/lib/python3.7/dist-packages (from requests[socks]>=2.11.1->tweepy) (1.24.3)\n",
            "Requirement already satisfied: PySocks!=1.5.7,>=1.5.6 in /usr/local/lib/python3.7/dist-packages (from requests[socks]>=2.11.1->tweepy) (1.7.1)\n"
          ]
        }
      ]
    },
    {
      "cell_type": "code",
      "source": [
        "import re \n",
        "import tweepy \n",
        "import nltk\n",
        "import pandas as pd\n",
        "import matplotlib.pyplot as plt\n",
        "from wordcloud import WordCloud,STOPWORDS\n",
        "nltk.download('punkt')   \n",
        "nltk.download('stopwords')\n",
        "from nltk.corpus import stopwords\n",
        "from nltk.tokenize import word_tokenize\n",
        "from nltk.stem import PorterStemmer\n",
        "from tweepy import OAuthHandler \n",
        "from textblob import TextBlob"
      ],
      "metadata": {
        "colab": {
          "base_uri": "https://localhost:8080/"
        },
        "id": "-cdvphn0K7DG",
        "outputId": "4e09aca3-cd08-4c51-81c9-671a2581409a"
      },
      "execution_count": null,
      "outputs": [
        {
          "output_type": "stream",
          "name": "stdout",
          "text": [
            "[nltk_data] Downloading package punkt to /root/nltk_data...\n",
            "[nltk_data]   Unzipping tokenizers/punkt.zip.\n",
            "[nltk_data] Downloading package stopwords to /root/nltk_data...\n",
            "[nltk_data]   Unzipping corpora/stopwords.zip.\n"
          ]
        }
      ]
    },
    {
      "cell_type": "code",
      "source": [
        "def connect():\n",
        "  consumer_key = 'KH5kaSlMnY2DpnH87RNPY6yMk'\n",
        "  consumer_secret = 'RK1IrVvToED7uVoudcGbSpe3PmREY4dD4b6j3VnFOisqqNQWvc'\n",
        "  access_token = '307810449-8Q7BBn8GlpIFSvzOC0n9fnOKBaDf9PupUpF61v63'\n",
        "  access_token_secret = 'cEvpS6FL5rIdgNdyWe71y1jeinvxELtcfVBAlbgjOfFye'\n",
        "  try:\n",
        "    auth = OAuthHandler(consumer_key, consumer_secret)\n",
        "    auth.set_access_token(access_token, access_token_secret)\n",
        "    api = tweepy.API(auth)\n",
        "    return api\n",
        "  except:\n",
        "    print(\"Error\")\n",
        "    exit(1)"
      ],
      "metadata": {
        "id": "vjKDVixnLGfI"
      },
      "execution_count": null,
      "outputs": []
    },
    {
      "cell_type": "code",
      "source": [
        "def cleanText(text):\n",
        "  text = text.lower()\n",
        "  # Removes all mentions (@username) from the tweet since it is of no use to us\n",
        "  text = re.sub(r'(@[A-Za-z0-9_]+)', '', text)\n",
        "    \n",
        "  # Removes any link in the text\n",
        "  text = re.sub('http://\\S+|https://\\S+', '', text)\n",
        "\n",
        "  # Only considers the part of the string with char between a to z or digits and whitespace characters\n",
        "  # Basically removes punctuation\n",
        "  text = re.sub(r'[^\\w\\s]', '', text)\n",
        "\n",
        "  # Removes stop words that have no use in sentiment analysis \n",
        "  text_tokens = word_tokenize(text)\n",
        "  text = [word for word in text_tokens if not word in stopwords.words()]\n",
        "\n",
        "  text = ' '.join(text)\n",
        "  return text"
      ],
      "metadata": {
        "id": "uJdCP_xNOTeb"
      },
      "execution_count": null,
      "outputs": []
    },
    {
      "cell_type": "code",
      "source": [
        "def stem(text):\n",
        "  # This function is used to stem the given sentence\n",
        "  porter = PorterStemmer()\n",
        "  token_words = word_tokenize(text)\n",
        "  stem_sentence = []\n",
        "  for word in token_words:\n",
        "    stem_sentence.append(porter.stem(word))\n",
        "  return \" \".join(stem_sentence)"
      ],
      "metadata": {
        "id": "JA5ssU1yOxks"
      },
      "execution_count": null,
      "outputs": []
    },
    {
      "cell_type": "code",
      "source": [
        "from nltk.corpus.reader.plaintext import EuroparlCorpusReader\n",
        "def sentiment(cleaned_text):\n",
        "  # Returns the sentiment based on the polarity of the input TextBlob object\n",
        "  if cleaned_text.sentiment.polarity > 0:\n",
        "    return 'positive'\n",
        "  elif cleaned_text.sentiment.polarity < 0:\n",
        "    return 'negative'\n",
        "  else:\n",
        "    return 'neutral'"
      ],
      "metadata": {
        "id": "ibvD_UndQeVh"
      },
      "execution_count": null,
      "outputs": []
    },
    {
      "cell_type": "code",
      "source": [
        "def fetch_tweets(query, count = 100000):\n",
        "  api = connect() # Gets the tweepy API object\n",
        "  tweets = [] # Empty list that stores all the tweets\n",
        "\n",
        "  try:\n",
        "    # Fetches the tweets using the api\n",
        "    fetched_data = api.search(q = query + ' -filter:retweets', \n",
        "count = count)\n",
        "    for tweet in fetched_data:\n",
        "      txt = tweet.text\n",
        "      clean_txt = cleanText(txt) # Cleans the tweet\n",
        "      stem_txt = TextBlob(stem(clean_txt)) # Stems the tweet\n",
        "      sent = sentiment(stem_txt) # Gets the sentiment from the tweet\n",
        "      tweets.append((txt, clean_txt, sent))\n",
        "    return tweets\n",
        "  except tweepy.TweepError as e:\n",
        "    print(\"Error : \" + str(e))\n",
        "    exit(1)"
      ],
      "metadata": {
        "id": "VXpJrw3ARatR"
      },
      "execution_count": null,
      "outputs": []
    },
    {
      "cell_type": "code",
      "source": [
        "tweets = fetch_tweets(query = '#BBMzansi', count = 100000)\n",
        "# Converting the list into a pandas Dataframe\n",
        "df = pd.DataFrame(tweets, columns= ['tweets', 'clean_tweets','sentiment'])\n",
        "\n",
        "\n"
      ],
      "metadata": {
        "id": "wB5bqWS_RdVj"
      },
      "execution_count": null,
      "outputs": []
    },
    {
      "cell_type": "code",
      "source": [
        "df.head"
      ],
      "metadata": {
        "colab": {
          "base_uri": "https://localhost:8080/"
        },
        "id": "t8qoWHusUJrU",
        "outputId": "7858d0b6-a21b-4823-cf61-f7d910d35209"
      },
      "execution_count": null,
      "outputs": [
        {
          "output_type": "execute_result",
          "data": {
            "text/plain": [
              "<bound method NDFrame.head of                                                tweets  ... sentiment\n",
              "0                           Not Vyno please #BBMzansi  ...   neutral\n",
              "1   I just love how y'all defend your faves🤣🤣#BBmz...  ...  positive\n",
              "2   Not her saying Vyno when we have Zino and BU😭 ...  ...   neutral\n",
              "3   @Lawrence_Maleka please ask Libo what is conte...  ...   neutral\n",
              "4                          Venus looks cute #BBMzansi  ...  positive\n",
              "..                                                ...  ...       ...\n",
              "95  Litetlly everyone thinks Gash nominated them. ...  ...  positive\n",
              "96  Looks like they are all safe, judging by messa...  ...  positive\n",
              "97  Finally GORGEOUS hun on the house on the diary...  ...   neutral\n",
              "98  Ahh you all take this game to heart not everyo...  ...  positive\n",
              "99                           Venus ♥️♥️♥️🔥  #BBMzansi  ...   neutral\n",
              "\n",
              "[100 rows x 3 columns]>"
            ]
          },
          "metadata": {},
          "execution_count": 50
        }
      ]
    },
    {
      "cell_type": "code",
      "source": [
        "# Dropping the duplicate values just in case there are some tweets that are copied and then stores the data in a csv file\n",
        "df1 = df.drop_duplicates(subset='clean_tweets')\n",
        "df1.to_csv('zakesosama.csv', index= False)"
      ],
      "metadata": {
        "id": "oqtJ_R49UDDZ"
      },
      "execution_count": null,
      "outputs": []
    },
    {
      "cell_type": "code",
      "source": [
        "df1"
      ],
      "metadata": {
        "colab": {
          "base_uri": "https://localhost:8080/",
          "height": 423
        },
        "id": "1_hChdaLUzzN",
        "outputId": "bf3a1bc3-23cc-47e0-d326-e07821bc3d55"
      },
      "execution_count": null,
      "outputs": [
        {
          "output_type": "execute_result",
          "data": {
            "text/html": [
              "\n",
              "  <div id=\"df-7f9524af-accc-4a09-9e49-bf7dc46e0608\">\n",
              "    <div class=\"colab-df-container\">\n",
              "      <div>\n",
              "<style scoped>\n",
              "    .dataframe tbody tr th:only-of-type {\n",
              "        vertical-align: middle;\n",
              "    }\n",
              "\n",
              "    .dataframe tbody tr th {\n",
              "        vertical-align: top;\n",
              "    }\n",
              "\n",
              "    .dataframe thead th {\n",
              "        text-align: right;\n",
              "    }\n",
              "</style>\n",
              "<table border=\"1\" class=\"dataframe\">\n",
              "  <thead>\n",
              "    <tr style=\"text-align: right;\">\n",
              "      <th></th>\n",
              "      <th>tweets</th>\n",
              "      <th>clean_tweets</th>\n",
              "      <th>sentiment</th>\n",
              "    </tr>\n",
              "  </thead>\n",
              "  <tbody>\n",
              "    <tr>\n",
              "      <th>0</th>\n",
              "      <td>Libo saying Gash1 sees him as a threat has to ...</td>\n",
              "      <td>libo saying gash1 sees threat funniest thing i...</td>\n",
              "      <td>positive</td>\n",
              "    </tr>\n",
              "    <tr>\n",
              "      <th>1</th>\n",
              "      <td>Biggi is the main reason why these housemates ...</td>\n",
              "      <td>biggi main reason housemates way keeps saying ...</td>\n",
              "      <td>negative</td>\n",
              "    </tr>\n",
              "    <tr>\n",
              "      <th>2</th>\n",
              "      <td>Libo, what a gorgeous man. 😍#BBMzansi</td>\n",
              "      <td>libo gorgeous bbmzansi</td>\n",
              "      <td>positive</td>\n",
              "    </tr>\n",
              "    <tr>\n",
              "      <th>3</th>\n",
              "      <td>Worse Gash1 approached him twice to talk still...</td>\n",
              "      <td>worse gash1 approached twice talk still nyake ...</td>\n",
              "      <td>positive</td>\n",
              "    </tr>\n",
              "    <tr>\n",
              "      <th>4</th>\n",
              "      <td>If Thato leaves I'll really be bored. #BBMzansi</td>\n",
              "      <td>thato leaves really bored bbmzansi</td>\n",
              "      <td>positive</td>\n",
              "    </tr>\n",
              "    <tr>\n",
              "      <th>...</th>\n",
              "      <td>...</td>\n",
              "      <td>...</td>\n",
              "      <td>...</td>\n",
              "    </tr>\n",
              "    <tr>\n",
              "      <th>95</th>\n",
              "      <td>I really hope Themba will win this season #BBM...</td>\n",
              "      <td>really hope themba win season bbmzansi</td>\n",
              "      <td>positive</td>\n",
              "    </tr>\n",
              "    <tr>\n",
              "      <th>96</th>\n",
              "      <td>Libo baby but you're the one that did Gash one...</td>\n",
              "      <td>libo baby youre gash dirty first tho bbmzansi</td>\n",
              "      <td>positive</td>\n",
              "    </tr>\n",
              "    <tr>\n",
              "      <th>97</th>\n",
              "      <td>Libo lost his game now he is all about Gash1 i...</td>\n",
              "      <td>libo lost game gash1 ds bbmzansi</td>\n",
              "      <td>negative</td>\n",
              "    </tr>\n",
              "    <tr>\n",
              "      <th>98</th>\n",
              "      <td>Here we go again. #BBMzansi https://t.co/cFAyU...</td>\n",
              "      <td>go bbmzansi</td>\n",
              "      <td>positive</td>\n",
              "    </tr>\n",
              "    <tr>\n",
              "      <th>99</th>\n",
              "      <td>How can this guy say he thought Gash1 sas his ...</td>\n",
              "      <td>guy say thought gash1 sas friend haibo ndoda h...</td>\n",
              "      <td>positive</td>\n",
              "    </tr>\n",
              "  </tbody>\n",
              "</table>\n",
              "<p>99 rows × 3 columns</p>\n",
              "</div>\n",
              "      <button class=\"colab-df-convert\" onclick=\"convertToInteractive('df-7f9524af-accc-4a09-9e49-bf7dc46e0608')\"\n",
              "              title=\"Convert this dataframe to an interactive table.\"\n",
              "              style=\"display:none;\">\n",
              "        \n",
              "  <svg xmlns=\"http://www.w3.org/2000/svg\" height=\"24px\"viewBox=\"0 0 24 24\"\n",
              "       width=\"24px\">\n",
              "    <path d=\"M0 0h24v24H0V0z\" fill=\"none\"/>\n",
              "    <path d=\"M18.56 5.44l.94 2.06.94-2.06 2.06-.94-2.06-.94-.94-2.06-.94 2.06-2.06.94zm-11 1L8.5 8.5l.94-2.06 2.06-.94-2.06-.94L8.5 2.5l-.94 2.06-2.06.94zm10 10l.94 2.06.94-2.06 2.06-.94-2.06-.94-.94-2.06-.94 2.06-2.06.94z\"/><path d=\"M17.41 7.96l-1.37-1.37c-.4-.4-.92-.59-1.43-.59-.52 0-1.04.2-1.43.59L10.3 9.45l-7.72 7.72c-.78.78-.78 2.05 0 2.83L4 21.41c.39.39.9.59 1.41.59.51 0 1.02-.2 1.41-.59l7.78-7.78 2.81-2.81c.8-.78.8-2.07 0-2.86zM5.41 20L4 18.59l7.72-7.72 1.47 1.35L5.41 20z\"/>\n",
              "  </svg>\n",
              "      </button>\n",
              "      \n",
              "  <style>\n",
              "    .colab-df-container {\n",
              "      display:flex;\n",
              "      flex-wrap:wrap;\n",
              "      gap: 12px;\n",
              "    }\n",
              "\n",
              "    .colab-df-convert {\n",
              "      background-color: #E8F0FE;\n",
              "      border: none;\n",
              "      border-radius: 50%;\n",
              "      cursor: pointer;\n",
              "      display: none;\n",
              "      fill: #1967D2;\n",
              "      height: 32px;\n",
              "      padding: 0 0 0 0;\n",
              "      width: 32px;\n",
              "    }\n",
              "\n",
              "    .colab-df-convert:hover {\n",
              "      background-color: #E2EBFA;\n",
              "      box-shadow: 0px 1px 2px rgba(60, 64, 67, 0.3), 0px 1px 3px 1px rgba(60, 64, 67, 0.15);\n",
              "      fill: #174EA6;\n",
              "    }\n",
              "\n",
              "    [theme=dark] .colab-df-convert {\n",
              "      background-color: #3B4455;\n",
              "      fill: #D2E3FC;\n",
              "    }\n",
              "\n",
              "    [theme=dark] .colab-df-convert:hover {\n",
              "      background-color: #434B5C;\n",
              "      box-shadow: 0px 1px 3px 1px rgba(0, 0, 0, 0.15);\n",
              "      filter: drop-shadow(0px 1px 2px rgba(0, 0, 0, 0.3));\n",
              "      fill: #FFFFFF;\n",
              "    }\n",
              "  </style>\n",
              "\n",
              "      <script>\n",
              "        const buttonEl =\n",
              "          document.querySelector('#df-7f9524af-accc-4a09-9e49-bf7dc46e0608 button.colab-df-convert');\n",
              "        buttonEl.style.display =\n",
              "          google.colab.kernel.accessAllowed ? 'block' : 'none';\n",
              "\n",
              "        async function convertToInteractive(key) {\n",
              "          const element = document.querySelector('#df-7f9524af-accc-4a09-9e49-bf7dc46e0608');\n",
              "          const dataTable =\n",
              "            await google.colab.kernel.invokeFunction('convertToInteractive',\n",
              "                                                     [key], {});\n",
              "          if (!dataTable) return;\n",
              "\n",
              "          const docLinkHtml = 'Like what you see? Visit the ' +\n",
              "            '<a target=\"_blank\" href=https://colab.research.google.com/notebooks/data_table.ipynb>data table notebook</a>'\n",
              "            + ' to learn more about interactive tables.';\n",
              "          element.innerHTML = '';\n",
              "          dataTable['output_type'] = 'display_data';\n",
              "          await google.colab.output.renderOutput(dataTable, element);\n",
              "          const docLink = document.createElement('div');\n",
              "          docLink.innerHTML = docLinkHtml;\n",
              "          element.appendChild(docLink);\n",
              "        }\n",
              "      </script>\n",
              "    </div>\n",
              "  </div>\n",
              "  "
            ],
            "text/plain": [
              "                                               tweets  ... sentiment\n",
              "0   Libo saying Gash1 sees him as a threat has to ...  ...  positive\n",
              "1   Biggi is the main reason why these housemates ...  ...  negative\n",
              "2               Libo, what a gorgeous man. 😍#BBMzansi  ...  positive\n",
              "3   Worse Gash1 approached him twice to talk still...  ...  positive\n",
              "4     If Thato leaves I'll really be bored. #BBMzansi  ...  positive\n",
              "..                                                ...  ...       ...\n",
              "95  I really hope Themba will win this season #BBM...  ...  positive\n",
              "96  Libo baby but you're the one that did Gash one...  ...  positive\n",
              "97  Libo lost his game now he is all about Gash1 i...  ...  negative\n",
              "98  Here we go again. #BBMzansi https://t.co/cFAyU...  ...  positive\n",
              "99  How can this guy say he thought Gash1 sas his ...  ...  positive\n",
              "\n",
              "[99 rows x 3 columns]"
            ]
          },
          "metadata": {},
          "execution_count": 39
        }
      ]
    },
    {
      "cell_type": "code",
      "source": [
        "ptweets = df[df['sentiment'] == 'positive']\n",
        "p_perc = 100 * len(ptweets)/len(tweets)\n",
        "ntweets = df[df['sentiment'] == 'negative']\n",
        "n_perc = 100 * len(ntweets)/len(tweets)\n",
        "print(f'Positive tweets {p_perc} %')\n",
        "print(f'Neutral tweets {100 - p_perc - n_perc} %')\n",
        "print(f'Negative tweets {n_perc} %')"
      ],
      "metadata": {
        "colab": {
          "base_uri": "https://localhost:8080/"
        },
        "id": "fz9I1PN7TFHH",
        "outputId": "d56392e1-9c63-45af-d4fa-fc8481815e4c"
      },
      "execution_count": null,
      "outputs": [
        {
          "output_type": "stream",
          "name": "stdout",
          "text": [
            "Positive tweets 87.0 %\n",
            "Negative tweets 13.0 %\n"
          ]
        }
      ]
    },
    {
      "cell_type": "code",
      "source": [
        "len(tweets)"
      ],
      "metadata": {
        "colab": {
          "base_uri": "https://localhost:8080/"
        },
        "id": "Njc7U-XGUoBZ",
        "outputId": "67e9a2f9-2138-4338-a375-8f34314e7a3a"
      },
      "execution_count": null,
      "outputs": [
        {
          "output_type": "execute_result",
          "data": {
            "text/plain": [
              "100"
            ]
          },
          "metadata": {},
          "execution_count": 42
        }
      ]
    }
  ]
}